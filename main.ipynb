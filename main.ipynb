{
 "cells": [
  {
   "cell_type": "code",
   "execution_count": 72,
   "metadata": {},
   "outputs": [],
   "source": [
    "import pdfplumber\n",
    "import json\n",
    "import re\n",
    "from elasticsearch import Elasticsearch\n",
    "from functools import partial\n"
   ]
  },
  {
   "cell_type": "markdown",
   "metadata": {},
   "source": [
    "Config ignore table when extract_text"
   ]
  },
  {
   "cell_type": "code",
   "execution_count": 73,
   "metadata": {},
   "outputs": [],
   "source": [
    "def not_within_bboxes(obj, bboxes):\n",
    "    \"\"\"Check if the object is in any of the table's bbox.\"\"\"\n",
    "\n",
    "    def obj_in_bbox(_bbox):\n",
    "        \"\"\"Define objects in box.\n",
    "        See https://github.com/jsvine/pdfplumber/blob/stable/pdfplumber/table.py#L404\n",
    "        \"\"\"\n",
    "        v_mid = (obj[\"top\"] + obj[\"bottom\"]) / 2\n",
    "        h_mid = (obj[\"x0\"] + obj[\"x1\"]) / 2\n",
    "        x0, top, x1, bottom = _bbox\n",
    "        return (h_mid >= x0) and (h_mid < x1) and (v_mid >= top) and (v_mid < bottom)\n",
    "\n",
    "    return not any(obj_in_bbox(__bbox) for __bbox in bboxes)\n",
    "\n",
    "\n",
    "def filter_tables(page: pdfplumber.page.Page) -> pdfplumber.page.Page:\n",
    "    if page.find_tables() != []:\n",
    "        bboxes = [table.bbox for table in page.find_tables()]\n",
    "        bbox_not_within_bboxes = partial(not_within_bboxes, bboxes=bboxes)\n",
    "        page = page.filter(bbox_not_within_bboxes)\n",
    "\n",
    "    return page"
   ]
  },
  {
   "cell_type": "markdown",
   "metadata": {},
   "source": [
    "Create raw data after read from pdf (ignore table)"
   ]
  },
  {
   "cell_type": "code",
   "execution_count": null,
   "metadata": {},
   "outputs": [],
   "source": [
    "with pdfplumber.open(\"s3-userguide.pdf\") as pdf:\n",
    "    # init raw data array\n",
    "    lines_data = []\n",
    "    # loop each page with\n",
    "    for page_num, page in enumerate(pdf.pages, start=1):\n",
    "\n",
    "        lines = filter_tables(page).extract_text(layout=True).split(\"\\n\")\n",
    "        for line_num, line in enumerate(lines, start=1):\n",
    "            lines_data.append(\n",
    "                {\n",
    "                    \"content\": line,\n",
    "                    \"title\": lines[2],\n",
    "                    \"section_title\": lines[-4],\n",
    "                }\n",
    "            )\n",
    "        page_tables = page.extract_tables()\n",
    "        for table in page_tables:\n",
    "            table_rows = [row for row in table]\n",
    "            for row in table_rows:\n",
    "                for col in row:\n",
    "                    if col != \"\":\n",
    "                        lines_data.append(\n",
    "                            {\n",
    "                                \"content\": col,\n",
    "                                \"title\": lines[2],\n",
    "                                \"section_title\": lines[-4],\n",
    "                            }\n",
    "                        )\n",
    "                        break\n",
    "\n",
    "    with open(\"raw.json\", \"w\", encoding=\"utf-8\") as f:\n",
    "        json.dump(lines_data, f, ensure_ascii=False, indent=4)"
   ]
  },
  {
   "cell_type": "markdown",
   "metadata": {},
   "source": [
    "Clean, add rule and group raw data to data which can import to ES"
   ]
  },
  {
   "cell_type": "code",
   "execution_count": 81,
   "metadata": {},
   "outputs": [],
   "source": [
    "with open(\"raw.json\", \"r\", encoding=\"utf-8\") as f:\n",
    "    lines_data = json.load(f)\n",
    "\n",
    "filtered_lines_data = []\n",
    "table_of_contents = {}\n",
    "current_content = \"\"\n",
    "for line_data in lines_data:\n",
    "    if line_data[\"content\"]:\n",
    "        content = line_data[\"content\"].strip()\n",
    "    \n",
    "        if content != \"\":\n",
    "            content = re.sub(r\"\\s+\", \" \", content)\n",
    "            if \".........\" in content:\n",
    "                content = re.sub(r\"\\.+\", \"@@@\", content)\n",
    "                title = content.split(\"@@@\")[0].strip()\n",
    "                page_num = content.split(\"@@@\")[1].strip()\n",
    "                table_of_contents[title] = page_num\n",
    "                continue\n",
    "            if (\n",
    "                \"API Version 2006-03-01\" not in content\n",
    "                and \"Amazon Simple Storage Service\" not in content\n",
    "                and content != \"\"\n",
    "            ):\n",
    "                if current_content:\n",
    "                    if content[0] == \"-\" or content[0] == \"•\" or content[0].isnumeric():\n",
    "                        current_content += \"\\n\" + content\n",
    "                    elif content[0].islower():\n",
    "                        current_content += \" \" + content\n",
    "                    elif current_content[-1] != \".\":\n",
    "                        current_content += \" \" + content\n",
    "                    elif current_content[-1] == \",\" or current_content[-1] == \":\":\n",
    "                        current_content += \" \" + content\n",
    "                    elif content[0].islower():\n",
    "                        current_content += \" \" + content\n",
    "                    else:\n",
    "                        new = {}\n",
    "                        new[\"section_title\"] = \"\"\n",
    "                        page = line_data[\"section_title\"].strip().split(\" \")[-1]\n",
    "                        new[\"title\"] = re.sub(r\"\\s+\", \" \", line_data[\"title\"].strip())\n",
    "                        new[\"content\"] = current_content\n",
    "                        if page in table_of_contents.values():\n",
    "                            new[\"section_title\"] = list(table_of_contents.keys())[\n",
    "                                list(table_of_contents.values()).index(page)\n",
    "                            ]\n",
    "                        else:\n",
    "                            new[\"section_title\"] = (\n",
    "                                line_data[\"section_title\"]\n",
    "                                .strip()\n",
    "                                .split(\"API Version\")[0]\n",
    "                                .strip()\n",
    "                            )\n",
    "\n",
    "                        new[\"page\"] = page\n",
    "                        if (\n",
    "                            new[\"section_title\"]\n",
    "                            and \"Table of Contents\" not in new[\"content\"]\n",
    "                        ):\n",
    "                            filtered_lines_data.append(new)\n",
    "                        current_content = content\n",
    "                else:\n",
    "                    current_content = content\n",
    "\n",
    "with open(\"output.json\", \"w\", encoding=\"utf-8\") as f:\n",
    "    json.dump(filtered_lines_data, f, ensure_ascii=False, indent=4)"
   ]
  },
  {
   "cell_type": "markdown",
   "metadata": {},
   "source": [
    "Put data to ES"
   ]
  },
  {
   "cell_type": "code",
   "execution_count": 80,
   "metadata": {},
   "outputs": [
    {
     "name": "stderr",
     "output_type": "stream",
     "text": [
      "/var/folders/yz/tvpwz_9d6c56fms92tltys800000gn/T/ipykernel_76373/1241684842.py:7: ElasticsearchWarning: Elasticsearch built-in security features are not enabled. Without authentication, your cluster could be accessible to anyone. See https://www.elastic.co/guide/en/elasticsearch/reference/7.17/security-minimal-setup.html to enable security.\n",
      "  es.index(index=\"s3_guide\", body=doc)\n"
     ]
    }
   ],
   "source": [
    "es = Elasticsearch([{\"host\": \"localhost\", \"port\": 9200, \"scheme\": \"http\"}])\n",
    "\n",
    "with open(\"output.json\", \"r\") as file:\n",
    "    data = json.load(file)\n",
    "\n",
    "for doc in data:\n",
    "    es.index(index=\"s3_guide\", body=doc)"
   ]
  }
 ],
 "metadata": {
  "kernelspec": {
   "display_name": "Python 3",
   "language": "python",
   "name": "python3"
  },
  "language_info": {
   "codemirror_mode": {
    "name": "ipython",
    "version": 3
   },
   "file_extension": ".py",
   "mimetype": "text/x-python",
   "name": "python",
   "nbconvert_exporter": "python",
   "pygments_lexer": "ipython3",
   "version": "3.9.6"
  }
 },
 "nbformat": 4,
 "nbformat_minor": 2
}
