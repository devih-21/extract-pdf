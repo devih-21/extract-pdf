{
 "cells": [
  {
   "cell_type": "code",
   "execution_count": 55,
   "metadata": {},
   "outputs": [],
   "source": [
    "import pdfplumber\n",
    "import json\n",
    "import re\n",
    "from elasticsearch import Elasticsearch\n",
    "from functools import partial\n",
    "import pandas as pd\n"
   ]
  },
  {
   "cell_type": "markdown",
   "metadata": {},
   "source": [
    "Config ignore table when extract_text"
   ]
  },
  {
   "cell_type": "code",
   "execution_count": 60,
   "metadata": {},
   "outputs": [],
   "source": [
    "def not_within_bboxes(obj, bboxes):\n",
    "    \"\"\"Check if the object is in any of the table's bbox.\"\"\"\n",
    "\n",
    "    def obj_in_bbox(_bbox):\n",
    "        \"\"\"Define objects in box.\n",
    "\n",
    "        See https://github.com/jsvine/pdfplumber/blob/stable/pdfplumber/table.py#L404\n",
    "        \"\"\"\n",
    "        v_mid = (obj[\"top\"] + obj[\"bottom\"]) / 2\n",
    "        h_mid = (obj[\"x0\"] + obj[\"x1\"]) / 2\n",
    "        x0, top, x1, bottom = _bbox\n",
    "        return (h_mid >= x0) and (h_mid < x1) and (v_mid >= top) and (v_mid < bottom)\n",
    "\n",
    "    return not any(obj_in_bbox(__bbox) for __bbox in bboxes)\n",
    "\n",
    "def filter_tables(page: pdfplumber.page.Page) -> pdfplumber.page.Page:\n",
    "    if page.find_tables() != []:\n",
    "        bboxes = [table.bbox for table in page.find_tables()]\n",
    "        bbox_not_within_bboxes = partial(not_within_bboxes, bboxes=bboxes)\n",
    "        page = page.filter(bbox_not_within_bboxes)\n",
    "\n",
    "    return page\n",
    "  \n"
   ]
  },
  {
   "cell_type": "markdown",
   "metadata": {},
   "source": [
    "Create raw data after read from pdf (ignore table)"
   ]
  },
  {
   "cell_type": "code",
   "execution_count": 61,
   "metadata": {},
   "outputs": [],
   "source": [
    "\n",
    "with pdfplumber.open('s3-userguide.pdf') as pdf:\n",
    "    # init raw data array\n",
    "    lines_data = []\n",
    "    # loop each page with \n",
    "    for page_num, page in enumerate(pdf.pages, start=1):\n",
    "        lines = filter_tables(page).extract_text(layout=True).split('\\n')\n",
    "        for line_num, line in enumerate(lines, start=1):\n",
    "            lines_data.append({\n",
    "                \"content\": line,\n",
    "                \"title\": lines[2],\n",
    "                \"section_title\": lines[-4],\n",
    "            })\n",
    "\n",
    "    with open('raw.json', 'w', encoding='utf-8') as f:\n",
    "        json.dump(lines_data, f, ensure_ascii=False, indent=4)"
   ]
  },
  {
   "cell_type": "markdown",
   "metadata": {},
   "source": [
    "Clean, add rule and group raw data to data which can import to ES"
   ]
  },
  {
   "cell_type": "code",
   "execution_count": 62,
   "metadata": {},
   "outputs": [
    {
     "name": "stdout",
     "output_type": "stream",
     "text": [
      "{'What is Amazon S3?': '1', 'Features of Amazon S3': '1', 'Storage classes': '1', 'Storage management': '2', 'Access management and security': '469', 'Data processing': '4', 'Storage logging and monitoring': '2343', 'Analytics and insights': '5', 'Strong consistency': '2343', 'How Amazon S3 works': '5', 'Buckets': '2367', 'Objects': '2340', 'Keys': '2340', 'S3 Versioning': '2341', 'Version ID': '2341', 'Bucket policy': '2341', 'S3 Access Points': '8', 'Access control lists (ACLs)': '9', 'Regions': '2339', 'Amazon S3 data consistency model': '10', 'Concurrent applications': '11', 'Related services': '2344', 'Accessing Amazon S3': '13', 'AWS Management Console': '2344', 'AWS Command Line Interface': '2344', 'AWS SDKs': '2345', 'Amazon S3 REST API': '14', 'Paying for Amazon S3': '15', 'PCI DSS compliance': '15', 'Getting started': '34', 'Setting up': '17', 'Sign up for an AWS account': '17', 'Create a user with administrative access': '18', 'Step 1: Create a bucket': '135', 'Step 2: Upload an object': '25', 'Step 3: Download an object': '26', 'Using the S3 console': '2358', 'Step 4: Copy an object': '27', 'Step 5: Delete the objects and bucket': '28', 'Deleting an object': '551', 'Emptying your bucket': '29', 'Deleting your bucket': '2387', 'Next steps': '2345', 'Understand common use cases': '31', 'Control access to your buckets and objects': '31', 'Manage and monitor your storage': '32', 'Develop with Amazon S3': '33', 'Learn from tutorials': '34', 'Explore training and support': '35', 'Tutorials': '37', 'Optimizing storage costs': '34', 'Managing storage': '1221', 'Hosting videos and websites': '35', 'Processing data': '35', 'Protecting data': '35', 'Transforming data with S3 Object Lambda': '38', 'Prerequisites': '95', 'Step 1: Create an S3 bucket': '77', 'Step 2: Upload a file to the S3 bucket': '64', 'Step 3: Create an S3 access point': '65', 'Step 4: Create a Lambda function': '45', \"Step 5: Configure an IAM policy for your Lambda function's execution role\": '51', 'Step 6: Create an S3 Object Lambda Access Point': '51', 'Step 7: View the transformed data': '53', 'Step 8: Clean up': '143', 'Detecting and redacting PII data': '59', 'Prerequisites: Create an IAM user with permissions': '61', 'Step 4: Configure and deploy a prebuilt Lambda function': '66', 'Step 5: Create an S3 Object Lambda Access Point': '67', 'Step 6: Use the S3 Object Lambda Access Point to retrieve the redacted file': '69', 'Step 7: Clean up': '70', 'Hosting video streaming': '74', 'Prerequisites: Register and configure a custom domain with Route 53': '76', 'Step 2: Upload a video to the S3 bucket': '78', 'Step 3: Create a CloudFront origin access identity': '78', 'Step 4: Create a CloudFront distribution': '79', 'Step 5: Access the video through the CloudFront distribution': '81', 'Step 6: Configure your CloudFront distribution to use your custom domain name': '82', 'name': '87', '(Optional) Step 8: View data about requests received by your CloudFront distribution': '88', 'Step 9: Clean up': '131', 'Batch-transcoding videos': '94', 'Step 1: Create an S3 bucket for the output media files': '96', 'Step 2: Create an IAM role for MediaConvert': '98', 'Step 3: Create an IAM role for your Lambda function': '98', 'Step 4: Create a Lambda function for video transcoding': '101', 'Step 5: Configure Amazon S3 Inventory for your S3 source bucket': '118', 'Step 6: Create an IAM role for S3 Batch Operations': '122', 'Step 7: Create and run an S3 Batch Operations job': '125', 'Step 8: Check the output media files from your S3 destination bucket': '130', 'Configuring a static website': '134', 'Step 2: Enable static website hosting': '136', 'Step 3: Edit Block Public Access settings': '137', 'Step 4: Add a bucket policy that makes your bucket content publicly available': '138', 'Step 5: Configure an index document': '140', 'Step 6: Configure an error document': '141', 'Step 7: Test your website endpoint': '142', 'Configuring a static website using a custom domain': '143', 'Before you begin': '144', 'Step 1: Register a custom domain with Route 53': '145', 'Step 2: Create two buckets': '145', 'Step 3: Configure root Domain bucket': '146', 'Step 4: Configure subdomain bucket for redirect': '148', 'Step 5: Configure logging': '148', 'Step 6: Upload index and website content': '149', 'Step 7: Upload an error document': '151', 'Step 8: Edit Block Public Access': '151', 'Step 9: Attach a bucket policy': '153', 'Step 10: Test your domain endpoint': '155', 'Step 11: Add alias records': '156', 'Step 12: Test the website': '160', 'Speeding up your website with Amazon CloudFront': '161', 'Cleaning up example resources': '166', 'Working with buckets': '168', 'Buckets overview': '169', 'About permissions': '170', 'Managing public access to buckets': '171', 'Bucket configuration': '172', 'Naming rules': '175', 'General purpose buckets naming rules': '175', 'Directory bucket naming rules': '487', 'Accessing and listing a bucket': '178', '': '178', 'Listing a bucket': '180', 'Creating a bucket': '2371', 'Viewing bucket properties': '193', 'Emptying a bucket': '195', 'Emptying a bucket with AWS CloudTrail configured': '198', 'Deleting a bucket': '198', 'Setting default bucket encryption': '203', 'Using SSE-KMS encryption for cross-account operations': '205', 'Using default encryption with replication': '206', 'Using Amazon S3 Bucket Keys with default encryption': '206', 'Configuring default encryption': '207', 'Monitoring default encryption': '212', 'Mountpoint for Amazon S3': '213', 'Installing Mountpoint': '214', 'Configuring and using Mountpoint': '219', 'Configuring Transfer Acceleration': '222', 'Why use Transfer Acceleration?': '223', 'Requirements for using Transfer Acceleration': '223', 'Getting Started': '224', 'Enabling Transfer Acceleration': '226', 'Speed Comparison tool': '233', 'Using Requester Pays': '234', 'How Requester Pays charges work': '235', 'Configuring Requester Pays': '236', 'Retrieving the requestPayment configuration': '238', 'Downloading objects from Requester Pays buckets': '238', 'Restrictions and limitations': '647', 'Working with objects': '242', 'Subresources': '244', 'Creating object keys': '245', 'Object key naming guidelines': '246', 'Working with metadata': '249', 'System-defined object metadata': '250', 'User-defined object metadata': '253', 'Editing object metadata': '254', 'Uploading objects': '257', 'Using multipart upload': '270', 'Multipart upload process': '271', 'Checksums with multipart upload operations': '273', 'Concurrent multipart upload operations': '274', 'Multipart upload and pricing': '274', 'API support for multipart upload': '275', 'AWS Command Line Interface support for multipart upload': '276', 'AWS SDK support for multipart upload': '276', 'Multipart upload API and permissions': '276', 'Configuring a lifecycle configuration': '280', 'Uploading an object using multipart upload': '283', 'Uploading a directory': '308', 'Listing multipart uploads': '311', 'Tracking a multipart upload': '313', 'Aborting a multipart upload': '317', 'Copying an object': '2411', 'Multipart upload limits': '329', 'Copying, moving, and renaming objects': '330', 'To copy an object': '332', 'To move an object': '343', 'To rename an object': '345', 'Downloading objects': '346', 'Downloading an object': '555', 'Downloading multiple objects': '348', 'Downloading part of an object': '350', 'Downloading an object from another AWS account': '351', 'Downloading archived objects': '352', 'Troubleshooting downloading objects': '352', 'Checking object integrity': '352', 'Using supported checksum algorithms': '353', 'Using Content-MD5 when uploading objects': '362', 'Using Content-MD5 and the ETag to verify uploaded objects': '362', 'Using trailing checksums': '363', 'Using part-level checksums for multipart uploads': '363', 'Deleting objects': '2419', 'Programmatically deleting objects from a version-enabled bucket': '365', 'Deleting objects from an MFA-enabled bucket': '366', 'Deleting a single object': '367', 'Deleting multiple objects': '378', 'Organizing and listing objects': '381', 'Using prefixes': '381', 'Listing objects': '2416', 'Using folders': '386', 'Viewing an object overview': '391', 'Viewing object properties': '391', 'Working with presigned URLs': '393', 'Who can create a presigned URL': '394', 'Expiration time for presigned URLs': '394', 'Limiting presigned URL capabilities': '395', 'Sharing objects with presigned URLs': '397', 'Uploading objects with presigned URLs': '400', 'Transforming objects': '402', 'Creating Object Lambda Access Points': '403', 'Using Amazon S3 Object Lambda Access Points': '418', 'Security considerations': '422', 'Writing Lambda functions': '429', 'Using AWS built functions': '460', 'Best practices and guidelines for S3 Object Lambda': '462', 'S3 Object Lambda tutorials': '464', 'Debugging S3 Object Lambda': '464', 'What is S3 Express One Zone?': '466', 'Overview': '1906', 'Single Availability Zone': '468', 'Directory buckets': '483', 'Endpoints and gateway VPC endpoints': '468', 'Session-based authorization': '469', 'Features of S3 Express One Zone': '469', 'Logging and monitoring': '1197', 'Object management': '471', 'AWS SDKs and client libraries': '471', 'Encryption and data protection': '472', 'AWS Signature Version 4 (SigV4)': '472', 'How is S3 Express One Zone different?': '474', 'S3 Express One Zone differences': '475', 'API operations supported by S3 Express One Zone': '476', 'Amazon S3 features not supported by S3 Express One Zone': '477', 'Getting started with S3 Express One Zone': '479', 'Set up AWS Identity and Access Management (IAM) with S3 Express One Zone': '479', 'Configure gateway VPC endpoints': '479', 'Work with S3 Express One Zone by using the S3 console, AWS CLI, and AWS SDKs': '480', 'Networking for S3 Express One Zone': '481', 'Endpoints': '2368', 'Configuring VPC gateway endpoints': '482', 'Availability Zones': '485', 'Directory bucket names': '485', 'Directories': '486', 'Key names': '486', 'Access management': '2342', 'Working with directory buckets': '486', 'Creating a directory bucket': '488', 'Viewing properties': '497', 'Managing bucket policies': '498', 'Emptying a directory bucket': '502', 'Deleting a directory bucket': '504', 'Listing directory buckets': '506', 'HeadBucket examples': '509', 'Working with objects in a directory bucket': '510', 'Importing objects into a directory bucket': '510', 'Using Batch Operations with S3 Express One Zone': '512', 'Uploading an object': '515', 'Using multipart uploads with directory buckets': '518', 'HeadObject examples': '557', 'Security for S3 Express One Zone': '558', 'Data protection and encryption': '559', 'IAM for S3 Express One Zone': '560', 'Identity-based policies': '575', 'Bucket policies': '576', 'CreateSession authorization': '578', 'Security best practices': '1206', 'Optimizing S3 Express One Zone performance': '583', 'Performance guidelines and design patterns': '583', 'Developing with S3 Express One Zone': '587', 'S3 Express One Zone Availability Zones and Regions': '588', 'Regional and Zonal endpoints': '590', 'S3 Express One Zone API operations': '590', 'Working with access points': '2388', 'Configuring IAM policies': '593', 'Access point policy examples': '593', 'Condition keys': '598', 'Delegating access control to access points': '599', 'Granting permissions for cross-account access points': '599', 'Creating access points': '600', 'Rules for naming Amazon S3 access points': '600', 'Creating an access point': '601', 'Creating access points restricted to a VPC': '604', 'Managing public access': '606', 'Using access points': '608', 'Accessing a bucket through S3 access points': '608', 'Monitoring and logging': '683', 'Managing access points': '611', 'Using a bucket-style alias for your access point': '614', 'Using access points with Amazon S3 operations': '616', 'Working with Multi-Region Access Points': '622', 'Creating Multi-Region Access Points': '623', 'Rules for naming Amazon S3 Multi-Region Access Points': '625', 'Rules for choosing buckets for Amazon S3 Multi-Region Access Points': '626', 'Create an Amazon S3 Multi-Region Access Point': '627', 'Blocking public access with Amazon S3 Multi-Region Access Points': '629', 'Viewing Amazon S3 Multi-Region Access Points configuration details': '630', 'Deleting a Multi-Region Access Point': '631', 'Configuring Multi-Region Access Points': '632', 'Configuring AWS PrivateLink': '633', 'Removing access to a Multi-Region Access Point from a VPC endpoint': '636', 'Using Multi-Region Access Points': '636', 'Multi-Region Access Point hostnames': '637', 'Multi-Region Access Points and Amazon S3 Transfer Acceleration': '639', 'Permissions': '639', 'Request routing': '2270', 'Failover configuration': '651', 'Bucket replication': '659', 'Supported API operations': '2347', 'Security': '2454', 'Data protection': '688', 'Data encryption': '2455', 'Server-side encryption': '691', 'Using client-side encryption': '778', 'Internetwork privacy': '779', 'Traffic between service and on-premises clients and applications': '779', 'Traffic between AWS resources in the same Region': '780', 'AWS PrivateLink for Amazon S3': '780', 'Types of VPC endpoints': '781', 'Restrictions and limitations of AWS PrivateLink for Amazon S3': '782', 'Creating a VPC endpoint': '782', 'Accessing Amazon S3 interface endpoints': '782', 'Private DNS': '783', 'endpoints': '785', 'Updating an on-premises DNS configuration': '791', 'Creating a VPC endpoint policy': '793', 'Access Management': '796', 'S3 resources': '797', 'Identities': '802', 'Access management tools': '805', 'Actions': '2551', 'Access management use cases': '811', 'Access management troubleshooting': '818', 'Identity and Access Management': '819', 'Managing access with S3 Access Grants': '990', 'Managing access with ACLs': '1069', 'Blocking public access': '1111', 'Reviewing bucket access': '1127', 'Verifying bucket ownership': '1134', 'Controlling object ownership': '1140', 'Using CORS': '1180', 'Cross-origin resource sharing: Use-case scenarios': '1181', 'How does Amazon S3 evaluate the CORS configuration on a bucket?': '1181', 'How Object Lambda Access Point supports CORS': '1182', 'CORS configuration': '1182', 'Configuring CORS': '1187', 'Compliance Validation': '1199', 'Resilience': '1201', 'Backup encryption': '1203', 'Infrastructure security': '1204', 'Configuration and vulnerability analysis': '1205', 'Amazon S3 security best practices': '1206', 'Amazon S3 monitoring and auditing best practices': '1212', 'Monitoring data security': '1217', 'Using S3 Versioning': '1222', 'Unversioned, versioning-enabled, and versioning-suspended buckets': '1222', 'Using S3 Versioning with S3 Lifecycle': '1223', 'Enabling versioning on buckets': '1228', 'Configuring MFA delete': '1235', 'Working with versioning-enabled objects': '1237', 'Working with versioning-suspended objects': '1267', 'Using AWS Backup for Amazon S3': '1272', 'Working with archived objects': '1273', 'Restoring objects from S3 Glacier': '1274', 'Restoring objects from S3 Intelligent-Tiering': '1274', 'Using S3 Batch Operations with restore requests': '1274', 'Restore time': '1275', 'Archive retrieval options': '1275', 'Restoring an archived object': '1277', 'Using Object Lock': '1286', 'How S3 Object Lock works': '1287', 'Object Lock considerations': '1290', 'Configuring Object Lock': '1296', 'Managing storage classes': '1306', 'Frequently accessed objects': '1306', 'Automatically optimizing data with changing or unknown access patterns': '1307', 'Infrequently accessed objects': '1309', 'Rarely accessed objects': '1310', 'Amazon S3 on Outposts': '1311', 'Comparing storage classes': '1312', 'Setting the storage class of an object': '1313', 'Amazon S3 Glacier storage classes': '1314', 'Comparing the S3 Glacier storage classes': '1315', 'S3 Glacier Instant Retrieval': '1315', 'S3 Glacier Flexible Retrieval': '1316', 'S3 Glacier Deep Archive': '1317', 'Archival storage': '1317', 'How these storage classes differ from the S3 Glacier service': '1318', 'Amazon S3 Intelligent-Tiering': '1318', 'How S3 Intelligent-Tiering works': '1319', 'Using S3 Intelligent-Tiering': '1322', 'Managing S3 Intelligent-Tiering': '1327', 'Managing lifecycle': '1331', 'Managing object lifecycle': '1332', 'Creating a lifecycle configuration': '1332', 'Transitioning objects': '1333', 'Expiring objects': '1341', 'Setting lifecycle configuration': '1344', 'Using other bucket configurations': '1361', 'Configuring Lifecycle event notifications': '1364', 'Lifecycle configuration elements': '1365', 'Examples of S3 Lifecycle configuration': '1377', 'Managing inventory': '1395', 'Amazon S3 Inventory buckets': '1396', 'Inventory lists': '1397', 'Configuring Amazon S3 Inventory': '1401', 'Setting up notifications for inventory completion': '1409', 'Locating your inventory': '1410', 'Querying inventory with Athena': '1415', 'Converting empty version ID strings to null strings': '1421', 'Working with the Object ACL field': '1423', 'Replicating objects': '1426', 'Why use replication?': '1427', 'When to use Cross-Region Replication': '1428', 'When to use Same-Region Replication': '1429', 'When to use two-way replication (bi-directional replication)': '1429', 'When to use S3 Batch Replication': '1430', 'Workload requirements and live replication': '1430', \"What's replicated?\": '1431', 'Requirements and considerations for replication': '1435', 'Setting up live replication': '1439', 'Managing or pausing live replication': '1525', 'Monitoring progress and getting status': '1527', 'Replicating existing objects': '1541', 'Using object tags': '1553', 'API operations related to object tagging': '1556', 'Additional configurations': '1557', 'Access control': '1558', 'Managing object tags': '1561', 'Using cost allocation tags': '1566', 'More Info': '1568', 'Billing and usage reporting': '1568', 'Billing reports': '1569', 'Usage report': '1572', 'Understanding billing and usage reports': '1574', 'Billing for Amazon S3 error responses': '1601', 'Using Amazon S3 Select': '1613', 'Requirements and limits': '1614', 'Constructing a request': '1615', 'Errors': '1616', 'S3 Select examples': '1616', 'SQL Reference': '1620', 'Using Batch Operations': '1658', 'Batch Operations basics': '1659', 'S3 Batch Operations tutorial': '1791', 'Granting permissions': '1660', 'Creating a job': '1670', 'Supported operations': '1693', 'Managing jobs': '1733', 'Tracking job status and completion reports': '1738', 'Using tags': '1752', 'Managing S3 Object Lock': '1768', 'Monitoring Amazon S3': '1792', 'Monitoring tools': '1793', 'Automated tools': '1793', 'Manual tools': '1793', 'Logging options': '1794', 'Logging with CloudTrail': '1797', 'Using CloudTrail logs with Amazon S3 server access logs and CloudWatch Logs': '1798', 'CloudTrail tracking with Amazon S3 SOAP API calls': '1799', 'CloudTrail events': '1800', 'Example log files': '1812', 'Enabling CloudTrail': '1818', 'Identifying S3 requests': '1870', 'Logging server access': '1828', 'How do I enable log delivery?': '1828', 'Log object key format': '1831', 'How are logs delivered?': '1832', 'Best-effort server log delivery': '1833', 'Bucket logging status changes take effect over time': '1833', 'Enabling server access logging': '1834', 'Log format': '1855', 'Deleting log files': '1869', 'Monitoring metrics with CloudWatch': '1876', 'Metrics and dimensions': '1878', 'Accessing CloudWatch metrics': '1895', 'CloudWatch metrics configurations': '1897', 'Amazon S3 Event Notifications': '1905', 'Notification types and destinations': '1907', 'Using SQS, SNS, and Lambda': '1915', 'Using EventBridge': '1943', 'Using analytics and insights': '1954', 'Storage Class Analysis': '1954', 'How to set up storage class analysis': '1955', 'Storage class analysis': '1956', 'How can I export storage class analysis data?': '1957', 'Configuring storage class analysis': '1958', 'S3 Storage Lens': '1961', 'S3 Storage Lens metrics and features': '1962', 'Understanding S3 Storage Lens': '1964', 'Working with Organizations': '1975', 'S3 Storage Lens permissions': '1978', 'Viewing storage metrics': '1982', 'Amazon S3 Storage Lens metrics use cases': '2013', 'Metrics glossary': '2037', 'Working with S3 Storage Lens': '2065', 'Working with S3 Storage Lens groups': '2113', 'Tracing requests using X-Ray': '2153', 'How X-Ray works with Amazon S3': '2153', 'Available Regions': '2154', 'Hosting a static website': '2155', 'Website endpoints': '2156', 'Website endpoint examples': '2157', 'Adding a DNS CNAME': '2158', 'Using a custom domain with Route 53': '2158', 'Key differences between a website endpoint and a REST API endpoint': '2158', 'Enabling website hosting': '2159', 'Configuring an index document': '2164', 'Index document and folders': '2165', 'Configure an index document': '2166', 'Configuring a custom error document': '2170', 'Amazon S3 HTTP response codes': '2168', 'Setting permissions for website access': '2171', 'Step 1: Edit S3 Block Public Access settings': '2172', 'Step 2: Add a bucket policy': '2174', 'Object access control lists': '2175', 'Logging web traffic': '2176', 'Configuring a redirect': '2177', 'Redirect requests to another host': '2177', 'Configure redirection rules': '2178', 'Redirect requests for an object': '2186', 'Developing with Amazon S3': '2189', 'Making requests': '2189', 'About access keys': '2190', 'Request endpoints': '2192', 'Making requests over IPv6': '2528', 'Making requests using the AWS SDKs': '2202', 'Making requests using the REST API': '2242', 'Using the AWS CLI': '2256', 'Using the AWS SDKs': '2258', 'Working with AWS SDKs': '2258', 'SDK Programming interfaces': '2259', 'Specifying the Signature Version in Request Authentication': '2260', 'Using the REST API': '2269', 'Error handling': '2275', 'The REST error response': '2276', 'The SOAP error response': '2278', 'Amazon S3 error best practices': '2279', 'Reference': '2280', 'Appendix a: Using the SOAP API': '2280', 'Appendix b: Authenticating requests (AWS signature version 2)': '2285', 'Optimizing Amazon S3 performance': '2329', 'Performance Guidelines': '2330', 'Measure Performance': '2331', 'Scale Horizontally': '2331', 'Use Byte-Range Fetches': '2332', 'Retry Requests': '2332', 'Combine Amazon S3 and Amazon EC2 in the Same Region': '2332', 'Use Transfer Acceleration to Minimize Latency': '2332', 'Use the Latest AWS SDKs': '2333', 'Performance Design Patterns': '2333', 'Caching Frequently Accessed Content': '2334', 'Timeouts and Retries for Latency-Sensitive Apps': '2334', 'Horizontal Scaling and Request Parallelization': '2335', 'Accelerating Geographically Disparate Data Transfers': '2337', 'What is S3 on Outposts?': '2338', 'How S3 on Outposts works': '2338', 'Storage class and encryption': '2341', 'S3 on Outposts access points': '2342', 'Features of S3 on Outposts': '2342', 'Accessing S3 on Outposts': '2344', 'Paying for S3 on Outposts': '2345', 'Setting up your Outpost': '2346', 'Order a new Outpost': '2346', 'How S3 on Outposts is different': '2346', 'Specifications': '2347', 'Unsupported Amazon S3 features': '2347', 'Network restrictions': '2348', 'Getting started with S3 on Outposts': '2349', 'Setting up IAM': '2350', 'Using the AWS CLI and SDK for Java': '2361', 'Networking for S3 on Outposts': '2365', 'Choosing your networking access type': '2366', 'Accessing your S3 on Outposts buckets and objects': '2366', 'Managing connections using cross-account elastic network interfaces': '2366', 'Working with S3 on Outposts buckets': '2367', 'Access points': '2368', 'API operations on S3 on Outposts': '2368', 'Creating and managing S3 on Outposts buckets': '2370', 'Adding tags': '2374', 'Using bucket policies': '2376', 'Listing buckets': '2384', 'Getting a bucket': '2386', 'Working with endpoints': '2401', 'Working with S3 on Outposts objects': '2407', 'Upload an object': '2409', 'Getting an object': '2413', 'Using HeadBucket': '2423', 'Performing a multipart upload': '2425', 'Using presigned URLs': '2433', 'Amazon S3 on Outposts with local Amazon EMR': '2446', 'Authorization and authentication caching': '2453', 'AWS PrivateLink for S3 on Outposts': '2455', 'Signature Version 4 (SigV4) policy keys': '2461', 'AWS managed policies': '2465', 'Using service-linked roles': '2466', 'Managing S3 on Outposts storage': '2471', 'Managing S3 Versioning': '2471', 'Creating and managing a lifecycle configuration': '2474', 'Replicating objects for S3 on Outposts': '2481', 'Sharing S3 on Outposts': '2512', 'Other services': '2517', 'Monitoring S3 on Outposts': '2517', 'CloudWatch metrics': '2518', 'Amazon CloudWatch Events': '2520', 'CloudTrail logs': '2521', 'Developing with S3 on Outposts': '2524', 'S3 on Outposts APIs': '2525', 'Configuring S3 control client': '2527', 'Code examples': '2539', 'AbortMultipartUpload': '2554', 'AbortMultipartUploads': '2555', 'CompleteMultipartUpload': '2557', 'CopyObject': '2559', 'CreateBucket': '2578', 'CreateMultiRegionAccessPoint': '2599', 'CreateMultipartUpload': '2602', 'DeleteBucket': '2603', 'DeleteBucketAnalyticsConfiguration': '2614', 'DeleteBucketCors': '2615', 'DeleteBucketEncryption': '2618', 'DeleteBucketInventoryConfiguration': '2619', 'DeleteBucketLifecycle': '2620', 'DeleteBucketMetricsConfiguration': '2623', 'DeleteBucketPolicy': '2624', 'DeleteBucketReplication': '2630', 'DeleteBucketTagging': '2631', 'DeleteBucketWebsite': '2632', 'DeleteObject': '2637', 'DeleteObjectTagging': '2653', 'DeleteObjects': '2654', 'DeletePublicAccessBlock': '2684', 'GetBucketAccelerateConfiguration': '2685', 'GetBucketAcl': '2686', 'GetBucketAnalyticsConfiguration': '2695', 'GetBucketCors': '2696', 'GetBucketEncryption': '2702', 'GetBucketInventoryConfiguration': '2703', 'GetBucketLifecycleConfiguration': '2704', 'GetBucketLocation': '2708', 'GetBucketLogging': '2710', 'GetBucketMetricsConfiguration': '2711', 'GetBucketNotification': '2712', 'GetBucketPolicy': '2713', 'GetBucketPolicyStatus': '2722', 'GetBucketReplication': '2723', 'GetBucketRequestPayment': '2724', 'GetBucketTagging': '2725', 'GetBucketVersioning': '2726', 'GetBucketWebsite': '2727', 'GetObject': '2731', 'GetObjectAcl': '2758', 'GetObjectLegalHold': '2764', 'GetObjectLockConfiguration': '2767', 'GetObjectRetention': '2771', 'GetObjectTagging': '2776', 'GetPublicAccessBlock': '2778', 'HeadBucket': '2779', 'HeadObject': '2783', 'ListBucketAnalyticsConfigurations': '2788', 'ListBucketInventoryConfigurations': '2789', 'ListBuckets': '2791', 'ListMultipartUploads': '2802', 'ListObjectVersions': '2805', 'ListObjects': '2810', 'ListObjectsV2': '2812', 'PutBucketAccelerateConfiguration': '2831', 'PutBucketAcl': '2834', 'PutBucketCors': '2845', 'PutBucketEncryption': '2853', 'PutBucketLifecycleConfiguration': '2854', 'PutBucketLogging': '2863', 'PutBucketNotification': '2870', 'PutBucketNotificationConfiguration': '2873', 'PutBucketPolicy': '2879', 'PutBucketReplication': '2888', 'PutBucketRequestPayment': '2892', 'PutBucketTagging': '2893', 'PutBucketVersioning': '2895', 'PutBucketWebsite': '2896', 'PutObject': '2903', 'PutObjectAcl': '2932', 'PutObjectLegalHold': '2937', 'PutObjectLockConfiguration': '2941', 'PutObjectRetention': '2949', 'RestoreObject': '2954', 'SelectObjectContent': '2959', 'UploadPart': '2965', 'Scenarios': '2967', 'Create a presigned URL': '2968', 'Create a web page that lists Amazon S3 objects': '3007', 'Delete incomplete multipart uploads': '3009', 'Download objects to a local directory': '3012', 'Get an object from a Multi-Region Access Point': '3014', 'Get an object from a bucket if it has been modified': '3015', 'Get started with buckets and objects': '3020', 'Get started with encryption': '3099', 'Get started with tags': '3105', 'Get the legal hold configuration of an object': '3108', 'Lock Amazon S3 objects': '3112', 'Manage access control lists (ACLs)': '3176', 'Manage versioned objects in batches with a Lambda function': '3181', 'Parse URIs': '3182', 'Perform a multipart copy': '3185', 'Perform a multipart upload': '3188', 'Track uploads and downloads': '3192', 'Unit and integration test with an SDK': '3195', 'Upload directory to a bucket': '3204', 'Upload or download large files': '3205', 'Upload stream of unknown size': '3245', 'Use checksums': '3248', 'Work with versioned objects': '3253', 'Serverless examples': '3261', 'Invoke a Lambda function from an Amazon S3 trigger': '3261', 'Cross-service examples': '3273', 'Build an Amazon Transcribe app': '3273', 'Convert text to speech and back to text': '3274', 'Create a serverless application to manage photos': '3275', 'Create an Amazon Textract explorer application': '3279', 'Detect PPE in images': '3280', 'Detect entities in text extracted from an image': '3282', 'Detect faces in an image': '3283', 'Detect objects in images': '3283', 'Detect people and objects in a video': '3287', 'Save EXIF and other image information': '3288', 'Transform data with S3 Object Lambda': '3289', 'Troubleshooting': '3290', 'Troubleshoot Access Denied (403 Forbidden) errors': '3290', 'Bucket policies and IAM policies': '3291', 'Amazon S3 ACL settings': '3294', 'S3 Block Public Access settings': '3297', 'Amazon S3 encryption settings': '3298', 'S3 Object Lock settings': '3299', 'VPC endpoint policy': '3300', 'AWS Organizations policies': '3300', 'Access point settings': '3301', 'Troubleshoot Batch Operations': '3301', 'enabled': '3302', 'Batch Replication failures after adding a new replication rule': '3303', 'S3 Batch Operations failing objects with the error 400 InvalidRequest': '3303', 'Create job failure with job tagging enabled': '3304', 'Access Denied to read the manifest': '3304', 'Troubleshoot CORS': '3305', 'Troubleshoot lifecycle issues': '3306', 'transitioned by a lifecycle rule': '', \"How do I monitor the progress of my lifecycle rule to verify that it's active?\": '3307', 'enabled bucket': '3308', 'How do I empty my S3 bucket by using lifecycle rules?': '3308', 'lifecycle rules': '', 'Can I recover S3 objects that are expired by S3 Lifecycle rules?': '3310', 'Troubleshoot replication': '3311', 'Troubleshooting tips for S3 Replication': '3311', 'Batch Replication errors': '3317', 'Troubleshoot server access logging': '3318', 'Common error messages when setting up logging': '3318', 'Troubleshooting delivery failures': '3319', 'Troubleshoot versioning': '3321', 'I want to permanently delete versioned objects': '3323', \"I'm experiencing performance degradation after enabling bucket versioning\": '3324', 'Get Amazon S3 request IDs for AWS Support': '3326', 'Using HTTP to obtain request IDs': '3326', 'Using a web browser to obtain request IDs': '3326', 'Using the AWS SDKs to obtain request IDs': '3327', 'Using the AWS CLI to obtain request IDs': '3329', 'Using Windows PowerShell to obtain request IDs': '3329', 'Using AWS CloudTrail data events to obtain request IDs': '3330', 'Using S3 server access logging to obtain request IDs': '3330', 'Document history': '3331', 'Earlier updates': '3361', 'AWS Glossary': '3385'}\n"
     ]
    }
   ],
   "source": [
    "with open('raw.json', 'r', encoding='utf-8') as f:\n",
    "    lines_data = json.load(f)\n",
    "\n",
    "filtered_lines_data = []\n",
    "table_of_contents = {}\n",
    "current_content = ''\n",
    "for line_data in lines_data:\n",
    "    content = line_data['content'].strip()\n",
    "    if content != '':\n",
    "        content = re.sub(r'\\s+', ' ', content)\n",
    "        if (\".........\" in content):\n",
    "            content = re.sub(r'\\.+', '@@@', content)\n",
    "            title = content.split(\"@@@\")[0].strip()\n",
    "            page_num = content.split(\"@@@\")[1].strip()\n",
    "            table_of_contents[title] = page_num\n",
    "            continue\n",
    "        if \"API Version 2006-03-01\" not in content and \"Amazon Simple Storage Service\" not in content and content != '':\n",
    "            if current_content:\n",
    "              if (content[0] == '-' or content[0] == '•' or content[0].isnumeric()):\n",
    "                  current_content += '\\n' + content\n",
    "              elif content[0].islower():\n",
    "                  current_content += ' ' + content\n",
    "              elif (current_content[-1] != '.'):\n",
    "                  current_content += ' ' + content\n",
    "              elif  (current_content[-1] == ',' or current_content[-1] == ':'):\n",
    "                  current_content += ' ' + content\n",
    "              elif content[0].islower():\n",
    "                  current_content += ' ' + content\n",
    "              else:\n",
    "                  new = {}\n",
    "                  new['section_title'] = ''\n",
    "                  page = line_data['section_title'].strip().split(\" \")[-1]\n",
    "                  new['title'] = re.sub(r'\\s+', ' ', line_data['title'].strip())\n",
    "                  new['content'] = current_content\n",
    "                  if page in table_of_contents.values():\n",
    "                      new['section_title'] = list(table_of_contents.keys())[list(table_of_contents.values()).index(page)]\n",
    "                  else:\n",
    "                      new['section_title'] = line_data['section_title'].strip().split(\"API Version\")[0].strip()\n",
    "                  \n",
    "                  new['page'] = page\n",
    "                  if new['section_title'] and \"Table of Contents\" not in new['content']:\n",
    "                      filtered_lines_data.append(new)\n",
    "                  current_content = content\n",
    "            else:\n",
    "                current_content = content\n",
    "print(table_of_contents)           \n",
    "\n",
    "with open('output.json', 'w', encoding='utf-8') as f:\n",
    "    json.dump(filtered_lines_data, f, ensure_ascii=False, indent=4)\n"
   ]
  },
  {
   "cell_type": "markdown",
   "metadata": {},
   "source": [
    "Put data to ES"
   ]
  },
  {
   "cell_type": "code",
   "execution_count": null,
   "metadata": {},
   "outputs": [
    {
     "name": "stderr",
     "output_type": "stream",
     "text": [
      "/var/folders/yz/tvpwz_9d6c56fms92tltys800000gn/T/ipykernel_55600/2731284087.py:8: ElasticsearchWarning: Elasticsearch built-in security features are not enabled. Without authentication, your cluster could be accessible to anyone. See https://www.elastic.co/guide/en/elasticsearch/reference/7.17/security-minimal-setup.html to enable security.\n",
      "  es.index(index='s3_guide', body=doc)\n"
     ]
    }
   ],
   "source": [
    "es = Elasticsearch([{'host': 'localhost', 'port': 9200, 'scheme': 'http'}])\n",
    "\n",
    "with open('output.json', 'r') as file:\n",
    "    data = json.load(file)\n",
    "\n",
    "for doc in data:\n",
    "    es.index(index='s3_guide', body=doc)"
   ]
  }
 ],
 "metadata": {
  "kernelspec": {
   "display_name": "Python 3",
   "language": "python",
   "name": "python3"
  },
  "language_info": {
   "codemirror_mode": {
    "name": "ipython",
    "version": 3
   },
   "file_extension": ".py",
   "mimetype": "text/x-python",
   "name": "python",
   "nbconvert_exporter": "python",
   "pygments_lexer": "ipython3",
   "version": "3.9.6"
  }
 },
 "nbformat": 4,
 "nbformat_minor": 2
}
