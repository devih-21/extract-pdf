{
 "cells": [
  {
   "cell_type": "code",
   "execution_count": 2,
   "metadata": {},
   "outputs": [
    {
     "name": "stderr",
     "output_type": "stream",
     "text": [
      "/Users/devih-21/Library/Python/3.9/lib/python/site-packages/urllib3/__init__.py:35: NotOpenSSLWarning: urllib3 v2 only supports OpenSSL 1.1.1+, currently the 'ssl' module is compiled with 'LibreSSL 2.8.3'. See: https://github.com/urllib3/urllib3/issues/3020\n",
      "  warnings.warn(\n"
     ]
    }
   ],
   "source": [
    "import pdfplumber\n",
    "import json\n",
    "import re\n",
    "from elasticsearch import Elasticsearch\n",
    "from functools import partial\n"
   ]
  },
  {
   "cell_type": "markdown",
   "metadata": {},
   "source": [
    "Config ignore table when extract_text"
   ]
  },
  {
   "cell_type": "code",
   "execution_count": 29,
   "metadata": {},
   "outputs": [],
   "source": [
    "def not_within_bboxes(obj, bboxes):\n",
    "    \"\"\"Check if the object is in any of the table's bbox.\"\"\"\n",
    "\n",
    "    def obj_in_bbox(_bbox):\n",
    "        \"\"\"Define objects in box.\n",
    "\n",
    "        See https://github.com/jsvine/pdfplumber/blob/stable/pdfplumber/table.py#L404\n",
    "        \"\"\"\n",
    "        v_mid = (obj[\"top\"] + obj[\"bottom\"]) / 2\n",
    "        h_mid = (obj[\"x0\"] + obj[\"x1\"]) / 2\n",
    "        x0, top, x1, bottom = _bbox\n",
    "        return (h_mid >= x0) and (h_mid < x1) and (v_mid >= top) and (v_mid < bottom)\n",
    "\n",
    "    return not any(obj_in_bbox(__bbox) for __bbox in bboxes)\n",
    "\n",
    "def filter_tables(page: pdfplumber.page.Page) -> pdfplumber.page.Page:\n",
    "    if page.find_tables() != []:\n",
    "        bboxes = [table.bbox for table in page.find_tables()]\n",
    "        bbox_not_within_bboxes = partial(not_within_bboxes, bboxes=bboxes)\n",
    "\n",
    "        page = page.filter(bbox_not_within_bboxes)\n",
    "\n",
    "    return page\n",
    "  \n"
   ]
  },
  {
   "cell_type": "markdown",
   "metadata": {},
   "source": [
    "Create raw data after read from pdf (ignore table)"
   ]
  },
  {
   "cell_type": "code",
   "execution_count": 3,
   "metadata": {},
   "outputs": [
    {
     "ename": "NameError",
     "evalue": "name 'filter_tables' is not defined",
     "output_type": "error",
     "traceback": [
      "\u001b[0;31m---------------------------------------------------------------------------\u001b[0m",
      "\u001b[0;31mNameError\u001b[0m                                 Traceback (most recent call last)",
      "Cell \u001b[0;32mIn[3], line 6\u001b[0m\n\u001b[1;32m      4\u001b[0m \u001b[38;5;66;03m# loop each page with \u001b[39;00m\n\u001b[1;32m      5\u001b[0m \u001b[38;5;28;01mfor\u001b[39;00m page_num, page \u001b[38;5;129;01min\u001b[39;00m \u001b[38;5;28menumerate\u001b[39m(pdf\u001b[38;5;241m.\u001b[39mpages, start\u001b[38;5;241m=\u001b[39m\u001b[38;5;241m1\u001b[39m):\n\u001b[0;32m----> 6\u001b[0m     lines \u001b[38;5;241m=\u001b[39m \u001b[43mfilter_tables\u001b[49m(page)\u001b[38;5;241m.\u001b[39mextract_text(layout\u001b[38;5;241m=\u001b[39m\u001b[38;5;28;01mTrue\u001b[39;00m)\u001b[38;5;241m.\u001b[39msplit(\u001b[38;5;124m'\u001b[39m\u001b[38;5;130;01m\\n\u001b[39;00m\u001b[38;5;124m'\u001b[39m)\n\u001b[1;32m      7\u001b[0m     \u001b[38;5;28;01mfor\u001b[39;00m line_num, line \u001b[38;5;129;01min\u001b[39;00m \u001b[38;5;28menumerate\u001b[39m(lines, start\u001b[38;5;241m=\u001b[39m\u001b[38;5;241m1\u001b[39m):\n\u001b[1;32m      8\u001b[0m         lines_data\u001b[38;5;241m.\u001b[39mappend({\n\u001b[1;32m      9\u001b[0m             \u001b[38;5;124m\"\u001b[39m\u001b[38;5;124mcontent\u001b[39m\u001b[38;5;124m\"\u001b[39m: line,\n\u001b[1;32m     10\u001b[0m             \u001b[38;5;124m\"\u001b[39m\u001b[38;5;124mtitle\u001b[39m\u001b[38;5;124m\"\u001b[39m: lines[\u001b[38;5;241m2\u001b[39m],\n\u001b[1;32m     11\u001b[0m             \u001b[38;5;124m\"\u001b[39m\u001b[38;5;124msection_title\u001b[39m\u001b[38;5;124m\"\u001b[39m: lines[\u001b[38;5;241m-\u001b[39m\u001b[38;5;241m4\u001b[39m]\n\u001b[1;32m     12\u001b[0m         })\n",
      "\u001b[0;31mNameError\u001b[0m: name 'filter_tables' is not defined"
     ]
    }
   ],
   "source": [
    "\n",
    "with pdfplumber.open('s3-userguide.pdf') as pdf:\n",
    "    # init raw data array\n",
    "    lines_data = []\n",
    "    # loop each page with \n",
    "    for page_num, page in enumerate(pdf.pages, start=1):\n",
    "        lines = filter_tables(page).extract_text(layout=True).split('\\n')\n",
    "        for line_num, line in enumerate(lines, start=1):\n",
    "            lines_data.append({\n",
    "                \"content\": line,\n",
    "                \"title\": lines[2],\n",
    "                \"section_title\": lines[-4]\n",
    "            })\n",
    "\n",
    "    with open('raw.json', 'w', encoding='utf-8') as f:\n",
    "        json.dump(lines_data, f, ensure_ascii=False, indent=4)"
   ]
  },
  {
   "cell_type": "markdown",
   "metadata": {},
   "source": [
    "Clean, add rule and group raw data to data which can import to ES"
   ]
  },
  {
   "cell_type": "code",
   "execution_count": 27,
   "metadata": {},
   "outputs": [],
   "source": [
    "with open('raw.json', 'r', encoding='utf-8') as f:\n",
    "    lines_data = json.load(f)\n",
    "\n",
    "filtered_lines_data = []\n",
    "debug = []\n",
    "current_content = ''\n",
    "for line_data in lines_data:\n",
    "    content = line_data['content'].strip()\n",
    "    if content != '':\n",
    "        content = re.sub(r'\\s+', ' ', content)\n",
    "        if \"API Version 2006-03-01\" not in content and \"Amazon Simple Storage Service\" not in content and content != '':\n",
    "            if current_content:\n",
    "              if (content[0] == '-' or content[0] == '•' or content[0].isnumeric()):\n",
    "                  current_content += '\\n' + content\n",
    "              elif content[0].islower():\n",
    "                  current_content += ' ' + content\n",
    "              elif (current_content[-1] != '.'):\n",
    "                  current_content += ' ' + content\n",
    "              elif  (current_content[-1] == ',' or current_content[-1] == ':'):\n",
    "                  current_content += ' ' + content\n",
    "              elif content[0].islower():\n",
    "                  current_content += ' ' + content\n",
    "              else:\n",
    "                  new = {}\n",
    "                  new['title'] = re.sub(r'\\s+', ' ', line_data['title'].strip())\n",
    "                  new['content'] = current_content\n",
    "                  new['section_title'] = line_data['section_title'].strip().split(\"API Version\")[0].strip()\n",
    "                  if new['section_title'] and \"Table of Contents\" not in new['content']:\n",
    "                      filtered_lines_data.append(new)\n",
    "                  current_content = content\n",
    "            else:\n",
    "                current_content = content\n",
    "                  \n",
    "\n",
    "with open('output.json', 'w', encoding='utf-8') as f:\n",
    "    json.dump(filtered_lines_data, f, ensure_ascii=False, indent=4)\n"
   ]
  },
  {
   "cell_type": "markdown",
   "metadata": {},
   "source": [
    "Put data to ES"
   ]
  },
  {
   "cell_type": "code",
   "execution_count": null,
   "metadata": {},
   "outputs": [
    {
     "name": "stderr",
     "output_type": "stream",
     "text": [
      "/var/folders/yz/tvpwz_9d6c56fms92tltys800000gn/T/ipykernel_55600/2731284087.py:8: ElasticsearchWarning: Elasticsearch built-in security features are not enabled. Without authentication, your cluster could be accessible to anyone. See https://www.elastic.co/guide/en/elasticsearch/reference/7.17/security-minimal-setup.html to enable security.\n",
      "  es.index(index='s3_guide', body=doc)\n"
     ]
    }
   ],
   "source": [
    "es = Elasticsearch([{'host': 'localhost', 'port': 9200, 'scheme': 'http'}])\n",
    "\n",
    "with open('output.json', 'r') as file:\n",
    "    data = json.load(file)\n",
    "\n",
    "for doc in data:\n",
    "    es.index(index='s3_guide', body=doc)"
   ]
  }
 ],
 "metadata": {
  "kernelspec": {
   "display_name": "Python 3",
   "language": "python",
   "name": "python3"
  },
  "language_info": {
   "codemirror_mode": {
    "name": "ipython",
    "version": 3
   },
   "file_extension": ".py",
   "mimetype": "text/x-python",
   "name": "python",
   "nbconvert_exporter": "python",
   "pygments_lexer": "ipython3",
   "version": "3.9.6"
  }
 },
 "nbformat": 4,
 "nbformat_minor": 2
}
